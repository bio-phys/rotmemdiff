{
 "cells": [
  {
   "cell_type": "markdown",
   "metadata": {
    "collapsed": true,
    "heading_collapsed": true
   },
   "source": [
    "# Modules and Constants"
   ]
  },
  {
   "cell_type": "code",
   "execution_count": 1,
   "metadata": {
    "ExecuteTime": {
     "end_time": "2019-01-29T17:38:27.080057",
     "start_time": "2019-01-29T17:38:25.946780Z"
    },
    "hidden": true
   },
   "outputs": [],
   "source": [
    "# Mathematical operations\n",
    "import numpy as np\n",
    "import scipy as sp\n",
    "from scipy.optimize import curve_fit\n",
    "import matplotlib.pyplot as plt\n",
    "%matplotlib inline\n",
    "from matplotlib import colors\n",
    "\n",
    "# My own functions\n",
    "from diffusion import *"
   ]
  },
  {
   "cell_type": "code",
   "execution_count": 2,
   "metadata": {
    "ExecuteTime": {
     "end_time": "2019-01-29T17:38:27.088112",
     "start_time": "2019-01-29T17:38:27.083171Z"
    },
    "hidden": true
   },
   "outputs": [],
   "source": [
    "# Natural constants\n",
    "kB    = 1.3806485*10**-23  # Boltzmann constant [J/K]\n",
    "\n",
    "# Simulation parameters\n",
    "T     = 310"
   ]
  },
  {
   "cell_type": "markdown",
   "metadata": {},
   "source": [
    "# Box properties and translational diffusion"
   ]
  },
  {
   "cell_type": "code",
   "execution_count": 3,
   "metadata": {
    "ExecuteTime": {
     "end_time": "2019-01-29T17:38:27.107797",
     "start_time": "2019-01-29T17:38:27.091648Z"
    }
   },
   "outputs": [
    {
     "name": "stdout",
     "output_type": "stream",
     "text": [
      "number of old simulations: 5\n",
      "number of new simulations: 36\n"
     ]
    }
   ],
   "source": [
    "old_box_data = np.loadtxt(\"simulations-ANT1-constant-density/results-translation-height/dc_Protein.dat\").T\n",
    "new_box_data = np.loadtxt(\"simulations-ANT1-height/results-translation/dc_Protein.dat\").T\n",
    "print('number of old simulations:', old_box_data.shape[1])\n",
    "print('number of new simulations:', new_box_data.shape[1])"
   ]
  },
  {
   "cell_type": "code",
   "execution_count": 4,
   "metadata": {
    "ExecuteTime": {
     "end_time": "2019-01-29T17:38:27.120611",
     "start_time": "2019-01-29T17:38:27.111354Z"
    }
   },
   "outputs": [],
   "source": [
    "old_box_edge   = old_box_data[0]\n",
    "old_box_height = old_box_data[1]"
   ]
  },
  {
   "cell_type": "code",
   "execution_count": 5,
   "metadata": {
    "ExecuteTime": {
     "end_time": "2019-01-29T17:38:27.138957",
     "start_time": "2019-01-29T17:38:27.129002Z"
    }
   },
   "outputs": [],
   "source": [
    "new_box_edge   = new_box_data[0]\n",
    "new_box_height = new_box_data[1]"
   ]
  },
  {
   "cell_type": "markdown",
   "metadata": {},
   "source": [
    "# MSD and diffusion coefficients"
   ]
  },
  {
   "cell_type": "code",
   "execution_count": 6,
   "metadata": {
    "ExecuteTime": {
     "end_time": "2019-01-29T17:38:27.778434",
     "start_time": "2019-01-29T17:38:27.766579Z"
    }
   },
   "outputs": [],
   "source": [
    "numblocks = 10\n",
    "fitstart  = 30 # 50 # 200\n",
    "fitend    = 60 # 125 # 400"
   ]
  },
  {
   "cell_type": "code",
   "execution_count": 7,
   "metadata": {},
   "outputs": [],
   "source": [
    "old_msd = []\n",
    "old_dc  = []\n",
    "old_err = []\n",
    "\n",
    "mult    = ['04']\n",
    "heights = ['07.5','08.5','10.0','11.0','12.5']\n",
    "\n",
    "# Iterate through the old data\n",
    "for n_, m_ in enumerate(mult):\n",
    "    \n",
    "    for i_, h_ in enumerate(heights):\n",
    "    \n",
    "        data = np.loadtxt('simulations-ANT1-constant-density/results-rotation-height/Rotation_Protein_PC60PE40-PC50PE40CL10-1OKC-piece12-mult'+m_+'-height'+h_+'.xvg',comments=['#','@']).T\n",
    "\n",
    "        # The first column is time\n",
    "        time = data[0]\n",
    "\n",
    "        # overwrite the increments with their cumulative sum ( = total rotation in radians)\n",
    "        rota = np.cumsum(data[1:],axis=1)\n",
    "\n",
    "        # Calculate MSD and diffusion coefficient with uncertainty\n",
    "        totdc, diffcoeff, err_diffc, t, msd_i = compute_dc(time,rota,numblocks,fitstart,fitend)\n",
    "\n",
    "        old_msd.append( msd_i     )\n",
    "        old_dc.append(  totdc     )\n",
    "        old_err.append( err_diffc )\n",
    "\n",
    "# Convert to arrays\n",
    "old_msd = np.array(old_msd)\n",
    "old_dc  = np.array(old_dc )\n",
    "old_err = np.array(old_err)"
   ]
  },
  {
   "cell_type": "code",
   "execution_count": 8,
   "metadata": {
    "ExecuteTime": {
     "end_time": "2019-01-29T17:42:33.307336",
     "start_time": "2019-01-29T17:38:27.782027Z"
    }
   },
   "outputs": [],
   "source": [
    "new_msd = []\n",
    "new_dc  = []\n",
    "new_err = []\n",
    "\n",
    "piece   = ['07']\n",
    "heights = ['07.5','10.0','12.5','15.0','17.5','20.0']\n",
    "letter  = ['A','B','C','D','E','F']\n",
    "\n",
    "# Iterate through the new data\n",
    "for np_, p_ in enumerate(piece):\n",
    "    for i_, h_ in enumerate(heights):\n",
    "        for nl_, l_ in enumerate(letter):\n",
    "\n",
    "            data = np.loadtxt('simulations-ANT1-height/results-rotation/Rotation_Protein_PC60PE40-PC50PE40CL10-1OKC-piece'+p_+'-mult01-height'+h_+'-'+l_+'.xvg',comments=['#','@']).T\n",
    "\n",
    "            # The first column is time\n",
    "            time = data[0]\n",
    "\n",
    "            # overwrite the increments with their cumulative sum ( = total rotation in radians)\n",
    "            rota = np.cumsum(data[1:],axis=1)\n",
    "\n",
    "            # Calculate MSD and diffusion coefficient with uncertainty\n",
    "            totdc, diffcoeff, err_diffc, t, msd_i = compute_dc(time,rota,numblocks,fitstart,fitend)\n",
    "\n",
    "            new_msd.append( msd_i   )\n",
    "            new_dc.append(  totdc     )\n",
    "            new_err.append( err_diffc )\n",
    "\n",
    "# Convert to arrays\n",
    "new_msd = np.array(new_msd)\n",
    "new_dc  = np.array(new_dc )\n",
    "new_err = np.array(new_err)"
   ]
  },
  {
   "cell_type": "markdown",
   "metadata": {},
   "source": [
    "## Average the values from the different trajectories at same size "
   ]
  },
  {
   "cell_type": "code",
   "execution_count": 9,
   "metadata": {
    "ExecuteTime": {
     "end_time": "2019-01-29T17:42:33.327606",
     "start_time": "2019-01-29T17:42:33.311777Z"
    }
   },
   "outputs": [],
   "source": [
    "def old_average_init(arr):\n",
    "    arr_av = []\n",
    "    for i in range(len(arr)):\n",
    "        arr_av.append( arr[i] )\n",
    "    return np.array(arr_av)\n",
    "        \n",
    "old_edge_av   = old_average_init(old_box_edge)\n",
    "old_height_av = old_average_init(old_box_height)\n",
    "old_msd_av    = old_average_init(old_msd)\n",
    "old_dc_av     = old_average_init(old_dc)\n",
    "old_err_av    = old_average_init(old_err)"
   ]
  },
  {
   "cell_type": "code",
   "execution_count": 10,
   "metadata": {
    "ExecuteTime": {
     "end_time": "2019-01-29T17:42:33.359725",
     "start_time": "2019-01-29T17:42:33.346761Z"
    }
   },
   "outputs": [],
   "source": [
    "def new_average_init(arr):\n",
    "    arr_av = []\n",
    "    for j in range(0,len(arr),6):\n",
    "        arr_av.append( np.mean(arr[j:j+6], axis=0) )\n",
    "    arr_av = np.array(arr_av)\n",
    "    return np.array(arr_av)\n",
    "\n",
    "new_edge_av   = new_average_init(new_box_edge)\n",
    "new_height_av = new_average_init(new_box_height)\n",
    "new_msd_av    = new_average_init(new_msd)\n",
    "new_dc_av     = new_average_init(new_dc)\n",
    "new_err_av    = new_average_init(new_err)\n",
    "\n",
    "# Correct the error estimate for sizes with multiple simulations\n",
    "new_err_av    = np.array([np.std(new_dc[i:i+6])/np.sqrt(6) for i in range(6)])"
   ]
  },
  {
   "cell_type": "code",
   "execution_count": 11,
   "metadata": {
    "ExecuteTime": {
     "end_time": "2019-01-29T17:42:33.384272",
     "start_time": "2019-01-29T17:42:33.371994Z"
    }
   },
   "outputs": [
    {
     "name": "stdout",
     "output_type": "stream",
     "text": [
      "Total simulation time: 2000000.0\n",
      "Total number of frames: 20001\n",
      "Time step between two frames: 100.0 ps\n",
      "Size of one block: 2000.0 frames =  200000.0 ps\n"
     ]
    }
   ],
   "source": [
    "print( 'Total simulation time:', time[-1] )\n",
    "print( 'Total number of frames:', len(time) ) \n",
    "ts = time[-1]/(len(time)-1) \n",
    "print( 'Time step between two frames:', ts, 'ps' )\n",
    "blocksize = (len(time)-1)/numblocks\n",
    "blocktime = blocksize*ts\n",
    "print( 'Size of one block:', blocksize, 'frames = ', blocktime, 'ps' )"
   ]
  },
  {
   "cell_type": "markdown",
   "metadata": {},
   "source": [
    "## Save the data"
   ]
  },
  {
   "cell_type": "code",
   "execution_count": 12,
   "metadata": {
    "ExecuteTime": {
     "end_time": "2019-01-29T17:42:33.343565",
     "start_time": "2019-01-29T17:42:33.338915Z"
    }
   },
   "outputs": [],
   "source": [
    "np.savetxt('rotation_dc_ant1_old_height.dat',np.array([old_edge_av,old_dc_av,old_err_av]).T,header=\"# box width [nm], diff. coeff. [rad^2/ps], err(diff. coeff.) [rad^2/ps]\" ) "
   ]
  },
  {
   "cell_type": "code",
   "execution_count": 13,
   "metadata": {
    "ExecuteTime": {
     "end_time": "2019-01-29T17:42:33.368549",
     "start_time": "2019-01-29T17:42:33.363280Z"
    }
   },
   "outputs": [],
   "source": [
    "np.savetxt('rotation_dc_ant1_new_height.dat',np.array([new_edge_av,new_dc_av,new_err_av]).T,header=\"# box width [nm], diff. coeff. [rad^2/ps], err(diff. coeff.) [rad^2/ps]\" ) "
   ]
  },
  {
   "cell_type": "markdown",
   "metadata": {},
   "source": [
    "# Figure"
   ]
  },
  {
   "cell_type": "code",
   "execution_count": 14,
   "metadata": {
    "ExecuteTime": {
     "end_time": "2019-01-29T17:42:33.485371",
     "start_time": "2019-01-29T17:42:33.463755Z"
    }
   },
   "outputs": [],
   "source": [
    "old_cmap = plt.cm.viridis\n",
    "new_cmap = plt.cm.viridis\n",
    "old_label = '$L = $48 nm\\n16 proteins'%np.mean(old_edge_av)\n",
    "new_label = '$L = $7 nm\\n1 protein'%np.mean(new_edge_av)"
   ]
  },
  {
   "cell_type": "code",
   "execution_count": 15,
   "metadata": {
    "ExecuteTime": {
     "end_time": "2019-01-29T18:13:59.738623",
     "start_time": "2019-01-29T18:13:55.940822Z"
    }
   },
   "outputs": [
    {
     "data": {
      "image/png": "[encoded data removed]",
      "text/plain": [
       "<Figure size 1200x900 with 1 Axes>"
      ]
     },
     "metadata": {
      "needs_background": "light"
     },
     "output_type": "display_data"
    }
   ],
   "source": [
    "fig, ax = plt.subplots(1,1, figsize=[4,3], dpi=300)\n",
    "\n",
    "# Fit to theory and limiting value\n",
    "xax = np.arange(5.1,15.0,0.1)\n",
    "ax.plot(xax,np.ones(len(xax))*np.average(old_dc_av,weights=1./old_err_av)*1e6,c='black',linestyle='--',lw=2,alpha=0.5)\n",
    "xax = np.arange(5.1,25,0.1)\n",
    "ax.plot(xax,np.ones(len(xax))*np.average(new_dc_av,weights=1./new_err_av)*1e6,c='black',linestyle='--',lw=2,alpha=0.5)\n",
    "\n",
    "# Diffusion coefficients\n",
    "ax.errorbar(old_height_av,old_dc_av*1e6,yerr=old_err_av*1e6,ls='none',marker='s',capsize=5, label=old_label) \n",
    "ax.errorbar(new_height_av,new_dc_av*1e6,yerr=new_err_av*1e6,ls='none',marker='o',capsize=5, label=new_label) \n",
    "\n",
    "# Legend and labels\n",
    "ax.legend(loc='upper right')\n",
    "ax.set_xlabel(r'box height [nm]',size=12)\n",
    "ax.set_ylabel(r'$D$ [rad$^2$/$\\mathrm{\\mu}$s]',size=12)\n",
    "\n",
    "# Format\n",
    "ax.set_ylim(0.7,1.7)\n",
    "\n",
    "fig.tight_layout()\n",
    "\n",
    "fig.savefig( 'rotational_diffusion_ANT1_height.pdf', dpi=300 )"
   ]
  }
 ],
 "metadata": {
  "anaconda-cloud": {},
  "hide_input": false,
  "kernelspec": {
   "display_name": "Python 3",
   "language": "python",
   "name": "python3"
  },
  "language_info": {
   "codemirror_mode": {
    "name": "ipython",
    "version": 3
   },
   "file_extension": ".py",
   "mimetype": "text/x-python",
   "name": "python",
   "nbconvert_exporter": "python",
   "pygments_lexer": "ipython3",
   "version": "3.7.1"
  },
  "toc": {
   "colors": {
    "hover_highlight": "#DAA520",
    "running_highlight": "#FF0000",
    "selected_highlight": "#FFD700"
   },
   "moveMenuLeft": true,
   "nav_menu": {
    "height": "136px",
    "width": "252px"
   },
   "navigate_menu": true,
   "number_sections": true,
   "sideBar": true,
   "threshold": 4,
   "toc_cell": true,
   "toc_position": {
    "height": "767px",
    "left": "0px",
    "right": "1555px",
    "top": "107px",
    "width": "365px"
   },
   "toc_section_display": "block",
   "toc_window_display": true
  }
 },
 "nbformat": 4,
 "nbformat_minor": 1
}
